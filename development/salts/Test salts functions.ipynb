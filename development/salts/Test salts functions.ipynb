{
 "cells": [
  {
   "cell_type": "code",
   "execution_count": 26,
   "id": "2161906b-b545-49da-85a8-9d609cfef529",
   "metadata": {},
   "outputs": [],
   "source": [
    "from naust import salts\n",
    "import importlib as imp"
   ]
  },
  {
   "cell_type": "code",
   "execution_count": 27,
   "id": "29202eac-b962-485b-a9ff-25fa2f0475a7",
   "metadata": {},
   "outputs": [],
   "source": [
    "import pytest\n",
    "from pathlib import Path\n",
    "\n",
    "\n",
    "# Define test data paths (TT25 data)\n",
    "basedir = Path('../../tests/test_data/salts/tt25')\n",
    "salts_test_data = {\n",
    "        'basedir': basedir,\n",
    "        'salts_sheet': (basedir / 'salts' /\n",
    "            'TT25_salinometer_readings_digitized.xlsx'),\n",
    "        'log_sheet': (\n",
    "            basedir / 'salts' /\n",
    "            ('Samplelog_TransectTokt_2025_pelagic'\n",
    "             '_helium_and_salinity_samples.xlsx')),\n",
    "        'btl_dir': basedir / 'btl'\n",
    "    }\n"
   ]
  },
  {
   "cell_type": "code",
   "execution_count": 28,
   "id": "eb68cbb4-1ee2-4519-a2c3-399c4b3286d5",
   "metadata": {},
   "outputs": [
    {
     "data": {
      "text/plain": [
       "<module 'naust.salts' from '/home/oyvindl/work/code/python/naust/src/naust/salts.py'>"
      ]
     },
     "execution_count": 28,
     "metadata": {},
     "output_type": "execute_result"
    }
   ],
   "source": [
    "imp.reload(salts)"
   ]
  },
  {
   "cell_type": "code",
   "execution_count": 38,
   "id": "1b106082-3e71-4c90-bd5c-5affa84dc6d9",
   "metadata": {},
   "outputs": [],
   "source": [
    "assert df['Sample'].iloc[-1] == 9999"
   ]
  },
  {
   "cell_type": "code",
   "execution_count": 31,
   "id": "a42be160-75e3-4379-9b68-b3ec3a5a72e9",
   "metadata": {},
   "outputs": [],
   "source": [
    "df = salts.read_salts_sheet(salts_test_data['salts_sheet'])"
   ]
  },
  {
   "cell_type": "code",
   "execution_count": 42,
   "id": "093ad5eb-81fc-4aaa-bb82-16472a2acabc",
   "metadata": {},
   "outputs": [],
   "source": [
    "import pandas as pd"
   ]
  },
  {
   "cell_type": "code",
   "execution_count": 43,
   "id": "535d47e5-6d0c-4796-9b81-1eff47a25cb7",
   "metadata": {},
   "outputs": [
    {
     "data": {
      "text/plain": [
       "True"
      ]
     },
     "execution_count": 43,
     "metadata": {},
     "output_type": "execute_result"
    }
   ],
   "source": [
    "df.Date[4] == pd.Timestamp('2025-04-03 00:00:00')"
   ]
  },
  {
   "cell_type": "code",
   "execution_count": 47,
   "id": "42545c1b-bc58-40a8-919e-1e79583d584a",
   "metadata": {},
   "outputs": [
    {
     "data": {
      "text/plain": [
       "['Date',\n",
       " 'K15',\n",
       " 'Analyst',\n",
       " 'Salinometer',\n",
       " 'Sample',\n",
       " 'S1',\n",
       " 'S2',\n",
       " 'S3',\n",
       " 'S4',\n",
       " 'S5',\n",
       " 'S_median',\n",
       " 'S_offset',\n",
       " 'S_final',\n",
       " 'Note']"
      ]
     },
     "execution_count": 47,
     "metadata": {},
     "output_type": "execute_result"
    }
   ],
   "source": [
    "list(df.columns)"
   ]
  },
  {
   "cell_type": "code",
   "execution_count": null,
   "id": "4822c401-7518-4af5-bd28-6c06a54a8ef9",
   "metadata": {},
   "outputs": [],
   "source": []
  }
 ],
 "metadata": {
  "kernelspec": {
   "display_name": "oyv",
   "language": "python",
   "name": "oyv"
  },
  "language_info": {
   "codemirror_mode": {
    "name": "ipython",
    "version": 3
   },
   "file_extension": ".py",
   "mimetype": "text/x-python",
   "name": "python",
   "nbconvert_exporter": "python",
   "pygments_lexer": "ipython3",
   "version": "3.12.5"
  }
 },
 "nbformat": 4,
 "nbformat_minor": 5
}
